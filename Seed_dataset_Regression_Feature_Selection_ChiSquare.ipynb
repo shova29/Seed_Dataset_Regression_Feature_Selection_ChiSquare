{
  "nbformat": 4,
  "nbformat_minor": 0,
  "metadata": {
    "colab": {
      "name": "Seed_dataset_Regression_Feature_Selection.ipynb",
      "provenance": [],
      "collapsed_sections": []
    },
    "kernelspec": {
      "name": "python3",
      "display_name": "Python 3"
    }
  },
  "cells": [
    {
      "cell_type": "markdown",
      "metadata": {
        "id": "1FZ4ZicPEvkC"
      },
      "source": [
        "**Importing pandas to read a dataset, matplotlib,seaborn import for plotting,libraries and checking packages_version**"
      ]
    },
    {
      "cell_type": "code",
      "metadata": {
        "colab": {
          "base_uri": "https://localhost:8080/"
        },
        "id": "vli-nqJcFoQ9",
        "outputId": "9cfa681c-3999-4711-b83c-3e1fd5d717eb"
      },
      "source": [
        "from sklearn.linear_model import LinearRegression\n",
        "from numpy import set_printoptions\n",
        "from sklearn.feature_selection import SelectKBest\n",
        "from sklearn.feature_selection import chi2\n",
        "from sklearn.feature_selection import RFE\n",
        "from sklearn.model_selection import train_test_split\n",
        "from sklearn.metrics import classification_report\n",
        "from sklearn.metrics import confusion_matrix\n",
        "from sklearn.linear_model import LogisticRegression\n",
        "from sklearn.tree import DecisionTreeClassifier\n",
        "from sklearn.ensemble import RandomForestClassifier\n",
        "\n",
        "from sklearn.metrics import plot_roc_curve\n",
        "from sklearn.svm import SVC\n",
        "import matplotlib.pyplot as plt\n",
        "\n",
        "from sklearn.externals.six import StringIO  \n",
        "from IPython.display import Image  \n",
        "from sklearn.tree import export_graphviz\n",
        "import pydotplus\n",
        "import matplotlib\n",
        "import seaborn\n",
        "import pandas as pd\n",
        "import matplotlib.pyplot as plt\n",
        "import seaborn as sns\n",
        "from sklearn.linear_model import LinearRegression\n",
        "print(matplotlib.__version__)\n",
        "print(seaborn.__version__)"
      ],
      "execution_count": null,
      "outputs": [
        {
          "output_type": "stream",
          "text": [
            "3.2.2\n",
            "0.11.1\n"
          ],
          "name": "stdout"
        },
        {
          "output_type": "stream",
          "text": [
            "/usr/local/lib/python3.7/dist-packages/sklearn/externals/six.py:31: FutureWarning: The module is deprecated in version 0.21 and will be removed in version 0.23 since we've dropped support for Python 2.7. Please rely on the official version of six (https://pypi.org/project/six/).\n",
            "  \"(https://pypi.org/project/six/).\", FutureWarning)\n"
          ],
          "name": "stderr"
        }
      ]
    },
    {
      "cell_type": "markdown",
      "metadata": {
        "id": "OJphVQdERT7x"
      },
      "source": [
        "**To Read Seed-Dataset**"
      ]
    },
    {
      "cell_type": "code",
      "metadata": {
        "colab": {
          "base_uri": "https://localhost:8080/"
        },
        "id": "18y01TKLE1BS",
        "outputId": "a210c475-05ec-4eac-c443-ac865c4082b6"
      },
      "source": [
        "data=pd.read_csv('https://query.data.world/s/uouysa55slsp4etdkc3ova7hww6xue')\n",
        "print(data)"
      ],
      "execution_count": null,
      "outputs": [
        {
          "output_type": "stream",
          "text": [
            "      ID   area  ...  lengthOfKernelGroove  seedType\n",
            "0      1  15.26  ...                 5.220         1\n",
            "1      2  14.88  ...                 4.956         1\n",
            "2      3  14.29  ...                 4.825         1\n",
            "3      4  13.84  ...                 4.805         1\n",
            "4      5  16.14  ...                 5.175         1\n",
            "..   ...    ...  ...                   ...       ...\n",
            "205  206  12.19  ...                 4.870         3\n",
            "206  207  11.23  ...                 5.003         3\n",
            "207  208  13.20  ...                 5.056         3\n",
            "208  209  11.84  ...                 5.044         3\n",
            "209  210  12.30  ...                 5.063         3\n",
            "\n",
            "[210 rows x 9 columns]\n"
          ],
          "name": "stdout"
        }
      ]
    },
    {
      "cell_type": "markdown",
      "metadata": {
        "id": "N3zyZLVpFSeZ"
      },
      "source": [
        "**To Findout the datatypes of Seed-Dataset**\n"
      ]
    },
    {
      "cell_type": "code",
      "metadata": {
        "colab": {
          "base_uri": "https://localhost:8080/"
        },
        "id": "1ayEvjXRwH7x",
        "outputId": "bfc083b7-0dff-4585-e8ed-7cca5ad44316"
      },
      "source": [
        "data.dtypes"
      ],
      "execution_count": null,
      "outputs": [
        {
          "output_type": "execute_result",
          "data": {
            "text/plain": [
              "ID                        int64\n",
              "area                    float64\n",
              "perimeter               float64\n",
              "compactness             float64\n",
              "lengthOfKernel          float64\n",
              "widthOfKernel           float64\n",
              "asymmetryCoefficient    float64\n",
              "lengthOfKernelGroove    float64\n",
              "seedType                  int64\n",
              "dtype: object"
            ]
          },
          "metadata": {
            "tags": []
          },
          "execution_count": 4
        }
      ]
    },
    {
      "cell_type": "markdown",
      "metadata": {
        "id": "oWBSDpkDGYtd"
      },
      "source": [
        "**To Findout the top 3 rows of data of Seed-Dataset**\n",
        "\n"
      ]
    },
    {
      "cell_type": "code",
      "metadata": {
        "colab": {
          "base_uri": "https://localhost:8080/",
          "height": 144
        },
        "id": "4WIW9f3_wL1u",
        "outputId": "83586a77-e188-4371-e7c6-8720f245d12d"
      },
      "source": [
        "data.head(3)"
      ],
      "execution_count": null,
      "outputs": [
        {
          "output_type": "execute_result",
          "data": {
            "text/html": [
              "<div>\n",
              "<style scoped>\n",
              "    .dataframe tbody tr th:only-of-type {\n",
              "        vertical-align: middle;\n",
              "    }\n",
              "\n",
              "    .dataframe tbody tr th {\n",
              "        vertical-align: top;\n",
              "    }\n",
              "\n",
              "    .dataframe thead th {\n",
              "        text-align: right;\n",
              "    }\n",
              "</style>\n",
              "<table border=\"1\" class=\"dataframe\">\n",
              "  <thead>\n",
              "    <tr style=\"text-align: right;\">\n",
              "      <th></th>\n",
              "      <th>ID</th>\n",
              "      <th>area</th>\n",
              "      <th>perimeter</th>\n",
              "      <th>compactness</th>\n",
              "      <th>lengthOfKernel</th>\n",
              "      <th>widthOfKernel</th>\n",
              "      <th>asymmetryCoefficient</th>\n",
              "      <th>lengthOfKernelGroove</th>\n",
              "      <th>seedType</th>\n",
              "    </tr>\n",
              "  </thead>\n",
              "  <tbody>\n",
              "    <tr>\n",
              "      <th>0</th>\n",
              "      <td>1</td>\n",
              "      <td>15.26</td>\n",
              "      <td>14.84</td>\n",
              "      <td>0.8710</td>\n",
              "      <td>5.763</td>\n",
              "      <td>3.312</td>\n",
              "      <td>2.221</td>\n",
              "      <td>5.220</td>\n",
              "      <td>1</td>\n",
              "    </tr>\n",
              "    <tr>\n",
              "      <th>1</th>\n",
              "      <td>2</td>\n",
              "      <td>14.88</td>\n",
              "      <td>14.57</td>\n",
              "      <td>0.8811</td>\n",
              "      <td>5.554</td>\n",
              "      <td>3.333</td>\n",
              "      <td>1.018</td>\n",
              "      <td>4.956</td>\n",
              "      <td>1</td>\n",
              "    </tr>\n",
              "    <tr>\n",
              "      <th>2</th>\n",
              "      <td>3</td>\n",
              "      <td>14.29</td>\n",
              "      <td>14.09</td>\n",
              "      <td>0.9050</td>\n",
              "      <td>5.291</td>\n",
              "      <td>3.337</td>\n",
              "      <td>2.699</td>\n",
              "      <td>4.825</td>\n",
              "      <td>1</td>\n",
              "    </tr>\n",
              "  </tbody>\n",
              "</table>\n",
              "</div>"
            ],
            "text/plain": [
              "   ID   area  perimeter  ...  asymmetryCoefficient  lengthOfKernelGroove  seedType\n",
              "0   1  15.26      14.84  ...                 2.221                 5.220         1\n",
              "1   2  14.88      14.57  ...                 1.018                 4.956         1\n",
              "2   3  14.29      14.09  ...                 2.699                 4.825         1\n",
              "\n",
              "[3 rows x 9 columns]"
            ]
          },
          "metadata": {
            "tags": []
          },
          "execution_count": 5
        }
      ]
    },
    {
      "cell_type": "markdown",
      "metadata": {
        "id": "brdOaqsqGzgF"
      },
      "source": [
        "**To findout the rows and columns value in the Seed-dataset**"
      ]
    },
    {
      "cell_type": "code",
      "metadata": {
        "colab": {
          "base_uri": "https://localhost:8080/"
        },
        "id": "tQuZiWItwVzE",
        "outputId": "33d2321a-fd3c-4e77-ffe3-8589395b6e81"
      },
      "source": [
        "data.shape"
      ],
      "execution_count": null,
      "outputs": [
        {
          "output_type": "execute_result",
          "data": {
            "text/plain": [
              "(210, 9)"
            ]
          },
          "metadata": {
            "tags": []
          },
          "execution_count": 6
        }
      ]
    },
    {
      "cell_type": "markdown",
      "metadata": {
        "id": "tW1weIYiHNnc"
      },
      "source": [
        "**To Generate descriptive statistics information: The describe() function computes a summary of statistics pertaining to the DataFrame columns. A large number of methods collectively compute descriptive statistics and other related operations on DataFrame. Most of these are aggregations like sum(), mean(), but some of them, like sumsum(), produce an object of the same size.**"
      ]
    },
    {
      "cell_type": "code",
      "metadata": {
        "colab": {
          "base_uri": "https://localhost:8080/",
          "height": 300
        },
        "id": "OtNul2tnHR2F",
        "outputId": "17e94b2e-3880-4ee8-b1ea-41e1702a1beb"
      },
      "source": [
        "data.describe()"
      ],
      "execution_count": null,
      "outputs": [
        {
          "output_type": "execute_result",
          "data": {
            "text/html": [
              "<div>\n",
              "<style scoped>\n",
              "    .dataframe tbody tr th:only-of-type {\n",
              "        vertical-align: middle;\n",
              "    }\n",
              "\n",
              "    .dataframe tbody tr th {\n",
              "        vertical-align: top;\n",
              "    }\n",
              "\n",
              "    .dataframe thead th {\n",
              "        text-align: right;\n",
              "    }\n",
              "</style>\n",
              "<table border=\"1\" class=\"dataframe\">\n",
              "  <thead>\n",
              "    <tr style=\"text-align: right;\">\n",
              "      <th></th>\n",
              "      <th>ID</th>\n",
              "      <th>area</th>\n",
              "      <th>perimeter</th>\n",
              "      <th>compactness</th>\n",
              "      <th>lengthOfKernel</th>\n",
              "      <th>widthOfKernel</th>\n",
              "      <th>asymmetryCoefficient</th>\n",
              "      <th>lengthOfKernelGroove</th>\n",
              "      <th>seedType</th>\n",
              "    </tr>\n",
              "  </thead>\n",
              "  <tbody>\n",
              "    <tr>\n",
              "      <th>count</th>\n",
              "      <td>210.000000</td>\n",
              "      <td>210.000000</td>\n",
              "      <td>210.000000</td>\n",
              "      <td>210.000000</td>\n",
              "      <td>210.000000</td>\n",
              "      <td>210.000000</td>\n",
              "      <td>210.000000</td>\n",
              "      <td>210.000000</td>\n",
              "      <td>210.000000</td>\n",
              "    </tr>\n",
              "    <tr>\n",
              "      <th>mean</th>\n",
              "      <td>105.500000</td>\n",
              "      <td>14.847524</td>\n",
              "      <td>14.559286</td>\n",
              "      <td>0.870999</td>\n",
              "      <td>5.628533</td>\n",
              "      <td>3.258605</td>\n",
              "      <td>3.700201</td>\n",
              "      <td>5.408071</td>\n",
              "      <td>2.000000</td>\n",
              "    </tr>\n",
              "    <tr>\n",
              "      <th>std</th>\n",
              "      <td>60.765944</td>\n",
              "      <td>2.909699</td>\n",
              "      <td>1.305959</td>\n",
              "      <td>0.023629</td>\n",
              "      <td>0.443063</td>\n",
              "      <td>0.377714</td>\n",
              "      <td>1.503557</td>\n",
              "      <td>0.491480</td>\n",
              "      <td>0.818448</td>\n",
              "    </tr>\n",
              "    <tr>\n",
              "      <th>min</th>\n",
              "      <td>1.000000</td>\n",
              "      <td>10.590000</td>\n",
              "      <td>12.410000</td>\n",
              "      <td>0.808100</td>\n",
              "      <td>4.899000</td>\n",
              "      <td>2.630000</td>\n",
              "      <td>0.765100</td>\n",
              "      <td>4.519000</td>\n",
              "      <td>1.000000</td>\n",
              "    </tr>\n",
              "    <tr>\n",
              "      <th>25%</th>\n",
              "      <td>53.250000</td>\n",
              "      <td>12.270000</td>\n",
              "      <td>13.450000</td>\n",
              "      <td>0.856900</td>\n",
              "      <td>5.262250</td>\n",
              "      <td>2.944000</td>\n",
              "      <td>2.561500</td>\n",
              "      <td>5.045000</td>\n",
              "      <td>1.000000</td>\n",
              "    </tr>\n",
              "    <tr>\n",
              "      <th>50%</th>\n",
              "      <td>105.500000</td>\n",
              "      <td>14.355000</td>\n",
              "      <td>14.320000</td>\n",
              "      <td>0.873450</td>\n",
              "      <td>5.523500</td>\n",
              "      <td>3.237000</td>\n",
              "      <td>3.599000</td>\n",
              "      <td>5.223000</td>\n",
              "      <td>2.000000</td>\n",
              "    </tr>\n",
              "    <tr>\n",
              "      <th>75%</th>\n",
              "      <td>157.750000</td>\n",
              "      <td>17.305000</td>\n",
              "      <td>15.715000</td>\n",
              "      <td>0.887775</td>\n",
              "      <td>5.979750</td>\n",
              "      <td>3.561750</td>\n",
              "      <td>4.768750</td>\n",
              "      <td>5.877000</td>\n",
              "      <td>3.000000</td>\n",
              "    </tr>\n",
              "    <tr>\n",
              "      <th>max</th>\n",
              "      <td>210.000000</td>\n",
              "      <td>21.180000</td>\n",
              "      <td>17.250000</td>\n",
              "      <td>0.918300</td>\n",
              "      <td>6.675000</td>\n",
              "      <td>4.033000</td>\n",
              "      <td>8.456000</td>\n",
              "      <td>6.550000</td>\n",
              "      <td>3.000000</td>\n",
              "    </tr>\n",
              "  </tbody>\n",
              "</table>\n",
              "</div>"
            ],
            "text/plain": [
              "               ID        area  ...  lengthOfKernelGroove    seedType\n",
              "count  210.000000  210.000000  ...            210.000000  210.000000\n",
              "mean   105.500000   14.847524  ...              5.408071    2.000000\n",
              "std     60.765944    2.909699  ...              0.491480    0.818448\n",
              "min      1.000000   10.590000  ...              4.519000    1.000000\n",
              "25%     53.250000   12.270000  ...              5.045000    1.000000\n",
              "50%    105.500000   14.355000  ...              5.223000    2.000000\n",
              "75%    157.750000   17.305000  ...              5.877000    3.000000\n",
              "max    210.000000   21.180000  ...              6.550000    3.000000\n",
              "\n",
              "[8 rows x 9 columns]"
            ]
          },
          "metadata": {
            "tags": []
          },
          "execution_count": 7
        }
      ]
    },
    {
      "cell_type": "markdown",
      "metadata": {
        "id": "6P8Xg-QfIHQj"
      },
      "source": [
        "**To convert the numerical values into array in a DataFrame**"
      ]
    },
    {
      "cell_type": "code",
      "metadata": {
        "colab": {
          "base_uri": "https://localhost:8080/"
        },
        "id": "wBQGsAghwcNe",
        "outputId": "c348c8c6-7e0f-41be-fcd7-063c85fa0933"
      },
      "source": [
        "a=data.values\n",
        "print(a)"
      ],
      "execution_count": null,
      "outputs": [
        {
          "output_type": "stream",
          "text": [
            "[[  1.     15.26   14.84  ...   2.221   5.22    1.   ]\n",
            " [  2.     14.88   14.57  ...   1.018   4.956   1.   ]\n",
            " [  3.     14.29   14.09  ...   2.699   4.825   1.   ]\n",
            " ...\n",
            " [208.     13.2    13.66  ...   8.315   5.056   3.   ]\n",
            " [209.     11.84   13.21  ...   3.598   5.044   3.   ]\n",
            " [210.     12.3    13.34  ...   5.637   5.063   3.   ]]\n"
          ],
          "name": "stdout"
        }
      ]
    },
    {
      "cell_type": "markdown",
      "metadata": {
        "id": "HUUX4wIaI4_t"
      },
      "source": [
        "**Assigning data into X and Y**"
      ]
    },
    {
      "cell_type": "code",
      "metadata": {
        "id": "2Y_8vmgywcfL"
      },
      "source": [
        "X=a[:,0:8]\n",
        "Y=a[:,8]"
      ],
      "execution_count": null,
      "outputs": []
    },
    {
      "cell_type": "markdown",
      "metadata": {
        "id": "R8iy77zWIPCQ"
      },
      "source": [
        "**Importing train_test_split from sklearn.model_selection**"
      ]
    },
    {
      "cell_type": "code",
      "metadata": {
        "id": "x4xAJNUFxf6_"
      },
      "source": [
        "from sklearn.model_selection import train_test_split"
      ],
      "execution_count": null,
      "outputs": []
    },
    {
      "cell_type": "markdown",
      "metadata": {
        "id": "9SywkSEPInkx"
      },
      "source": [
        "**Splitting the dataset into 60:40**"
      ]
    },
    {
      "cell_type": "code",
      "metadata": {
        "id": "xo18Hkcwxgz2"
      },
      "source": [
        "X_train, X_test, Y_train, Y_test=train_test_split(X,Y, test_size=0.4,random_state=22)"
      ],
      "execution_count": null,
      "outputs": []
    },
    {
      "cell_type": "markdown",
      "metadata": {
        "id": "VNxuEzle2oJV"
      },
      "source": [
        "**Linear regression:** Linear regression is a common Statistical Data Analysis technique.. It is used to determine the extent to which there is a linear relationship between a dependent variable and one or more independent variables."
      ]
    },
    {
      "cell_type": "markdown",
      "metadata": {
        "id": "gMhug54mJJy_"
      },
      "source": [
        "**To Train Linear Regression Model**"
      ]
    },
    {
      "cell_type": "code",
      "metadata": {
        "id": "oNe1urjkxhEp"
      },
      "source": [
        "lr=LinearRegression()\n",
        "model=lr.fit(X_train,Y_train)"
      ],
      "execution_count": null,
      "outputs": []
    },
    {
      "cell_type": "markdown",
      "metadata": {
        "id": "j7uFKYbMJ1l7"
      },
      "source": [
        " **To predict the Linear-Regression Model**"
      ]
    },
    {
      "cell_type": "code",
      "metadata": {
        "id": "4jy1Vf_axhSZ"
      },
      "source": [
        "predict=model.predict(X_test)"
      ],
      "execution_count": null,
      "outputs": []
    },
    {
      "cell_type": "markdown",
      "metadata": {
        "id": "d3djLyeHK8SX"
      },
      "source": [
        "**To see the prediction of the Linear-Regression Model**"
      ]
    },
    {
      "cell_type": "code",
      "metadata": {
        "colab": {
          "base_uri": "https://localhost:8080/"
        },
        "id": "3ICbMSOixhcq",
        "outputId": "fb089004-2e37-4649-cf56-ec641167fd6f"
      },
      "source": [
        "print(predict)"
      ],
      "execution_count": null,
      "outputs": [
        {
          "output_type": "stream",
          "text": [
            "[0.92069974 1.21036599 2.19656912 1.17116506 1.71472221 2.90763334\n",
            " 3.04022106 0.96920354 1.82577618 1.98422017 2.81798881 2.16448594\n",
            " 1.87181733 1.96731047 1.87342034 1.86378633 2.00730353 1.22003167\n",
            " 0.60336546 2.750456   0.92329278 2.80539726 1.317277   1.9759441\n",
            " 1.12160653 2.64228588 2.72091694 2.66871105 1.21845149 2.68863114\n",
            " 3.12863191 3.01131404 2.99310183 1.78062254 0.90141099 0.64283273\n",
            " 2.88192037 2.00477214 1.810794   2.64302093 1.8934656  3.03053801\n",
            " 1.54233457 0.5467367  3.18278728 1.88872984 2.94887332 3.08933836\n",
            " 2.87383033 1.69889756 0.72682596 3.01290585 2.75431047 0.81695356\n",
            " 1.92484522 0.56270732 1.89758714 0.94265442 2.81955345 2.90090433\n",
            " 2.19710133 1.82325757 1.63605375 1.8837067  3.08726053 0.73443877\n",
            " 1.26524614 2.62126438 1.98575184 2.60924187 1.64329683 2.7481055\n",
            " 0.87906217 0.64196495 3.07826152 1.22086103 2.48430184 2.62460987\n",
            " 1.97877142 0.46348558 1.19835434 0.64843323 2.77991382 2.55010556]\n"
          ],
          "name": "stdout"
        }
      ]
    },
    {
      "cell_type": "markdown",
      "metadata": {
        "id": "aJhhqVDVLbq2"
      },
      "source": [
        "**The test data of the Linear-Regression Model**"
      ]
    },
    {
      "cell_type": "code",
      "metadata": {
        "colab": {
          "base_uri": "https://localhost:8080/"
        },
        "id": "SK3qTFjSxhfx",
        "outputId": "34964758-308d-4102-825f-7e78744b230b"
      },
      "source": [
        "print(Y_test)"
      ],
      "execution_count": null,
      "outputs": [
        {
          "output_type": "stream",
          "text": [
            "[1. 1. 2. 1. 2. 3. 3. 1. 2. 2. 3. 2. 2. 2. 2. 2. 2. 1. 1. 3. 1. 3. 1. 2.\n",
            " 1. 3. 3. 3. 1. 3. 3. 3. 3. 2. 1. 1. 3. 2. 2. 3. 2. 3. 1. 1. 3. 2. 3. 3.\n",
            " 3. 2. 1. 3. 3. 1. 2. 1. 2. 1. 3. 3. 2. 2. 2. 2. 3. 1. 1. 3. 2. 3. 2. 3.\n",
            " 1. 1. 3. 1. 3. 3. 2. 1. 1. 1. 3. 3.]\n"
          ],
          "name": "stdout"
        }
      ]
    },
    {
      "cell_type": "markdown",
      "metadata": {
        "id": "rfyzVbgCLoiC"
      },
      "source": [
        "**To import the performance metrics for Linear-Regression Model**\n",
        "\n"
      ]
    },
    {
      "cell_type": "code",
      "metadata": {
        "id": "4ohzVmzzxz7X"
      },
      "source": [
        "from sklearn.metrics import mean_absolute_error\n",
        "from sklearn.metrics import mean_squared_error\n",
        "from sklearn.metrics import r2_score"
      ],
      "execution_count": null,
      "outputs": []
    },
    {
      "cell_type": "markdown",
      "metadata": {
        "id": "3et7ySShL0v3"
      },
      "source": [
        "**MAE(Mean Absolute Error):**\n",
        "MAE is the average of the absolute difference between the predicted values and observed value. \n",
        "\n",
        "**The result of MAE is given below:**"
      ]
    },
    {
      "cell_type": "code",
      "metadata": {
        "colab": {
          "base_uri": "https://localhost:8080/"
        },
        "id": "AQTpQOkLx4QI",
        "outputId": "b612d3d7-7940-4d52-92ca-4d7610809a01"
      },
      "source": [
        "mae=mean_absolute_error(Y_test,predict)\n",
        "print(\"MAE=\",mae)"
      ],
      "execution_count": null,
      "outputs": [
        {
          "output_type": "stream",
          "text": [
            "MAE= 0.19803882232655554\n"
          ],
          "name": "stdout"
        }
      ]
    },
    {
      "cell_type": "markdown",
      "metadata": {
        "id": "-iWN3eHVMFms"
      },
      "source": [
        "**Mean Square Error(MSE):**\n",
        "MSE is the average of the square difference between the predicted values and observed value.\n",
        "\n",
        "**The result of MSE is given below:**\n"
      ]
    },
    {
      "cell_type": "code",
      "metadata": {
        "colab": {
          "base_uri": "https://localhost:8080/"
        },
        "id": "jPuKpZABx7sS",
        "outputId": "24fb5042-d1eb-4fc1-84c0-830047c90455"
      },
      "source": [
        "mse=mean_squared_error(Y_test,predict)\n",
        "print(\"MSE=\",mse)"
      ],
      "execution_count": null,
      "outputs": [
        {
          "output_type": "stream",
          "text": [
            "MSE= 0.058048099559570875\n"
          ],
          "name": "stdout"
        }
      ]
    },
    {
      "cell_type": "markdown",
      "metadata": {
        "id": "4Ox3AG33MNx9"
      },
      "source": [
        "**R2-Score:**\n",
        "R-squared is a statistical measure of how close the data are to the fitted regression line.\n",
        "\n",
        "**The result of R2-score is given below:**"
      ]
    },
    {
      "cell_type": "code",
      "metadata": {
        "colab": {
          "base_uri": "https://localhost:8080/"
        },
        "id": "kM29-msOx8hm",
        "outputId": "52cd7666-4330-45c9-eeb4-a35e896047ff"
      },
      "source": [
        "r2=r2_score(Y_test,predict)\n",
        "print(\"R2=\",r2)"
      ],
      "execution_count": null,
      "outputs": [
        {
          "output_type": "stream",
          "text": [
            "R2= 0.9153045098237527\n"
          ],
          "name": "stdout"
        }
      ]
    },
    {
      "cell_type": "markdown",
      "metadata": {
        "id": "D5kh_EmTuecN"
      },
      "source": [
        "**#Feature-Selection Part with chi-square test**"
      ]
    },
    {
      "cell_type": "code",
      "metadata": {
        "id": "xVstvhydAbaH"
      },
      "source": [
        "X=data.drop(['seedType'],axis=1)\n",
        "Y=data['seedType'].values"
      ],
      "execution_count": null,
      "outputs": []
    },
    {
      "cell_type": "markdown",
      "metadata": {
        "id": "w9LaCp5Iuguq"
      },
      "source": [
        "**A chi-square test is used in statistics to test the independence of two events.\n",
        "In simple words, higher the Chi-Square value the feature is more dependent on the response and it can be selected for model training.**\n",
        "\n",
        "**Selecting the top 4 features for model training.**"
      ]
    },
    {
      "cell_type": "code",
      "metadata": {
        "colab": {
          "base_uri": "https://localhost:8080/"
        },
        "id": "2JlcA7PL98Q-",
        "outputId": "8c62af29-38b1-445e-92a3-6dd61244acb8"
      },
      "source": [
        "testing=SelectKBest(chi2,k=4)\n",
        "score=testing.fit(X,Y)\n",
        "set_printoptions(precision=4)\n",
        "print(score.scores_)"
      ],
      "execution_count": null,
      "outputs": [
        {
          "output_type": "stream",
          "text": [
            "[6.5024e+03 1.0025e+02 2.0555e+01 5.6670e-02 5.5170e+00 7.2927e+00\n",
            " 4.2639e+01 7.2900e+00]\n"
          ],
          "name": "stdout"
        }
      ]
    },
    {
      "cell_type": "markdown",
      "metadata": {
        "id": "ItLnpPHjuiVS"
      },
      "source": [
        "**The Recursive Feature Elimination (RFE) method is a feature selection approach. It works by recursively removing attributes and building a model on those attributes that remain.Number of features are selected which are 4,3 and 2 through RFE method.**"
      ]
    },
    {
      "cell_type": "code",
      "metadata": {
        "colab": {
          "base_uri": "https://localhost:8080/"
        },
        "id": "eE1joM3v-BNv",
        "outputId": "37d00c85-8f04-4fe8-8c72-25243dd7b925"
      },
      "source": [
        "lr_model = LinearRegression()\n",
        "rfe = RFE(model, 4)\n",
        "fit = rfe.fit(X, Y)\n",
        "print(\"Num Features: \", fit.n_features_)\n",
        "print(\"Selected Features: \",fit.support_)\n",
        "print(\"Feature Ranking: \",fit.ranking_)\n",
        "\n",
        "rfe = RFE(model, 3)\n",
        "fit = rfe.fit(X, Y)\n",
        "print(\"Num Features: \", fit.n_features_)\n",
        "print(\"Selected Features: \",fit.support_)\n",
        "print(\"Feature Ranking: \",fit.ranking_)\n",
        "\n",
        "rfe = RFE(model, 2)\n",
        "fit = rfe.fit(X, Y)\n",
        "print(\"Num Features: \", fit.n_features_)\n",
        "print(\"Selected Features: \",fit.support_)\n",
        "print(\"Feature Ranking: \",fit.ranking_)"
      ],
      "execution_count": null,
      "outputs": [
        {
          "output_type": "stream",
          "text": [
            "Num Features:  4\n",
            "Selected Features:  [False False  True  True  True False False  True]\n",
            "Feature Ranking:  [5 2 1 1 1 3 4 1]\n",
            "Num Features:  3\n",
            "Selected Features:  [False False False  True  True False False  True]\n",
            "Feature Ranking:  [6 3 2 1 1 4 5 1]\n",
            "Num Features:  2\n",
            "Selected Features:  [False False False  True  True False False False]\n",
            "Feature Ranking:  [7 4 3 1 1 5 6 2]\n"
          ],
          "name": "stdout"
        }
      ]
    },
    {
      "cell_type": "markdown",
      "metadata": {
        "id": "AGE2k9dwujjj"
      },
      "source": [
        "**The array value are used in the lr_model1 are 0,1,2,3 and finding out its accuracy based on those attribute values.**"
      ]
    },
    {
      "cell_type": "code",
      "metadata": {
        "id": "SfryuQA7-Lis",
        "colab": {
          "base_uri": "https://localhost:8080/"
        },
        "outputId": "fd784672-d682-49fd-8c73-41f9854b507d"
      },
      "source": [
        "X=a[:,[0,1,2,3]]\n",
        "X.shape\n",
        "X_train,X_test, Y_train, Y_test=train_test_split(X,Y, test_size=0.4,random_state=20)\n",
        "\n",
        "lr_model1=LinearRegression()\n",
        "lr_model1.fit(X_train,Y_train)\n",
        "predict1=lr_model1.predict(X_test)\n",
        "mae_model1=mean_absolute_error(Y_test,predict1)\n",
        "mse_model1=mean_squared_error(Y_test,predict1)\n",
        "r2_model1=r2_score(Y_test,predict1)\n",
        "print(\"MAE=\",mae_model1)\n",
        "print(\"MSE=\",mse_model1)\n",
        "print(\"R2=\",r2_model1)"
      ],
      "execution_count": null,
      "outputs": [
        {
          "output_type": "stream",
          "text": [
            "MAE= 0.1920007972616143\n",
            "MSE= 0.056221917248293826\n",
            "R2= 0.9047305840288278\n"
          ],
          "name": "stdout"
        }
      ]
    },
    {
      "cell_type": "markdown",
      "metadata": {
        "id": "m7qZRacBurzX"
      },
      "source": [
        "**The array value are used in the lr_model2 are 0,2,3 and finding out its accuracy based on those attribute values.**"
      ]
    },
    {
      "cell_type": "code",
      "metadata": {
        "colab": {
          "base_uri": "https://localhost:8080/"
        },
        "id": "l_Kcw3msglNP",
        "outputId": "205dd61d-74cf-4006-825f-89378036d0ce"
      },
      "source": [
        "X=a[:,[0,2,3]]\n",
        "X.shape\n",
        "X_train,X_test, Y_train, Y_test=train_test_split(X,Y, test_size=0.4,random_state=20)\n",
        "lr_model2=LinearRegression()\n",
        "lr_model2.fit(X_train,Y_train)\n",
        "predict2=lr_model2.predict(X_test)\n",
        "mae_model2=mean_absolute_error(Y_test,predict2)\n",
        "mse_model2=mean_squared_error(Y_test,predict2)\n",
        "r2_model2=r2_score(Y_test,predict2)\n",
        "print(\"MAE=\",mae_model2)\n",
        "print(\"MSE=\",mae_model2)\n",
        "print(\"R2=\",r2_model2)\n"
      ],
      "execution_count": null,
      "outputs": [
        {
          "output_type": "stream",
          "text": [
            "MAE= 0.20439240250448334\n",
            "MSE= 0.20439240250448334\n",
            "R2= 0.8974547782622211\n"
          ],
          "name": "stdout"
        }
      ]
    },
    {
      "cell_type": "markdown",
      "metadata": {
        "id": "iZYcHc4uusk2"
      },
      "source": [
        "**The array value are used in the lr_model3 are 0,3 and finding out its accuracy based on those attribute values.**"
      ]
    },
    {
      "cell_type": "code",
      "metadata": {
        "colab": {
          "base_uri": "https://localhost:8080/"
        },
        "id": "ErgcMk_cg-HL",
        "outputId": "b4e70035-fe28-4704-8c5f-2d09b35efc67"
      },
      "source": [
        "X=a[:,[0,3]]\n",
        "X.shape\n",
        "X_train,X_test, Y_train, Y_test=train_test_split(X,Y, test_size=0.4,random_state=20)\n",
        "lr_model3=LinearRegression()\n",
        "lr_model3.fit(X_train,Y_train)\n",
        "predict3=lr_model3.predict(X_test)\n",
        "mae_model3=mean_absolute_error(Y_test,predict3)\n",
        "mse_model3=mean_squared_error(Y_test,predict3)\n",
        "r2_model3=r2_score(Y_test,predict3)\n",
        "print(\"MAE=\",mae_model3)\n",
        "print(\"MSE=\",mse_model3)\n",
        "print(\"R2=\",r2_model3)"
      ],
      "execution_count": null,
      "outputs": [
        {
          "output_type": "stream",
          "text": [
            "MAE= 0.2046093164265422\n",
            "MSE= 0.061438552224328605\n",
            "R2= 0.8958908682769302\n"
          ],
          "name": "stdout"
        }
      ]
    },
    {
      "cell_type": "markdown",
      "metadata": {
        "id": "QmZV_KvlVIcv"
      },
      "source": [
        "**Feature Selection with f_regression:**\n",
        "The scikit-learn machine library provides an implementation of the correlation statistic in the f_regression() function. Feature selection is the process of identifying and selecting a subset of input variables that are most relevant to the target variable.\n",
        "Selecting the top k most relevant features (largest values) via the SelectKBest.\n"
      ]
    },
    {
      "cell_type": "code",
      "metadata": {
        "colab": {
          "base_uri": "https://localhost:8080/"
        },
        "id": "F3oS1pVkHHoQ",
        "outputId": "93146738-f6ab-4631-9dfa-d49df4bb32db"
      },
      "source": [
        "from sklearn.datasets import make_regression\n",
        "from sklearn.model_selection import train_test_split\n",
        "from sklearn.feature_selection import SelectKBest\n",
        "from sklearn.feature_selection import mutual_info_regression\n",
        "from sklearn.feature_selection import f_regression\n",
        "testing=SelectKBest(score_func=f_regression, k='all')\n",
        "\n",
        "score=testing.fit(X,Y)\n",
        "set_printoptions(precision=2)\n",
        "print(score.scores_)"
      ],
      "execution_count": null,
      "outputs": [
        {
          "output_type": "stream",
          "text": [
            "[1664.34   81.68]\n"
          ],
          "name": "stdout"
        }
      ]
    },
    {
      "cell_type": "markdown",
      "metadata": {
        "id": "buJ2HTPff3f6"
      },
      "source": [
        "**Selecting the top featurers.**"
      ]
    },
    {
      "cell_type": "code",
      "metadata": {
        "colab": {
          "base_uri": "https://localhost:8080/"
        },
        "id": "uwhIYOEmLS8a",
        "outputId": "403a632f-fdff-40e3-fbd8-12b5a6a531ef"
      },
      "source": [
        "model = LinearRegression()\n",
        "rfe = RFE(model, 4)\n",
        "fit = rfe.fit(X, Y)\n",
        "print(\"Num Features: \", fit.n_features_)\n",
        "print(\"Selected Features: \",fit.support_)\n",
        "print(\"Feature Ranking: \",fit.ranking_)"
      ],
      "execution_count": null,
      "outputs": [
        {
          "output_type": "stream",
          "text": [
            "Num Features:  2\n",
            "Selected Features:  [ True  True]\n",
            "Feature Ranking:  [1 1]\n"
          ],
          "name": "stdout"
        }
      ]
    },
    {
      "cell_type": "markdown",
      "metadata": {
        "id": "mR5MVo_df-Wt"
      },
      "source": [
        "**The top featurers are two.For training the model using f_regression feature selection function the array values are used 0,1 and finding out its accuracy based on those attribute values.**"
      ]
    },
    {
      "cell_type": "code",
      "metadata": {
        "id": "qtxBSXGILVW5",
        "colab": {
          "base_uri": "https://localhost:8080/"
        },
        "outputId": "72ad62bc-46f7-4617-a771-0d0772a9cf42"
      },
      "source": [
        "X=a[:,[0,1]]\n",
        "X.shape\n",
        "X_train,X_test, Y_train, Y_test=train_test_split(X,Y, test_size=0.4,random_state=7)\n",
        "lm=LinearRegression()\n",
        "model=lm.fit(X_train,Y_train)\n",
        "predictions=model.predict(X_test)\n",
        "mae=mean_absolute_error(Y_test,predictions)\n",
        "print(\"MAE=\",mae)\n",
        "mse=mean_squared_error(Y_test,predictions)\n",
        "print(\"MSE=\",mse)\n",
        "r2=r2_score(Y_test,predictions)\n",
        "print(\"R2=\",r2)"
      ],
      "execution_count": null,
      "outputs": [
        {
          "output_type": "stream",
          "text": [
            "MAE= 0.226400864558434\n",
            "MSE= 0.07393172474642515\n",
            "R2= 0.882587834838898\n"
          ],
          "name": "stdout"
        }
      ]
    }
  ]
}